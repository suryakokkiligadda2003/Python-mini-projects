{
  "nbformat": 4,
  "nbformat_minor": 0,
  "metadata": {
    "colab": {
      "provenance": [],
      "authorship_tag": "ABX9TyPGt8FFkUI4IyUDGjPiLQeA",
      "include_colab_link": true
    },
    "kernelspec": {
      "name": "python3",
      "display_name": "Python 3"
    },
    "language_info": {
      "name": "python"
    }
  },
  "cells": [
    {
      "cell_type": "markdown",
      "metadata": {
        "id": "view-in-github",
        "colab_type": "text"
      },
      "source": [
        "<a href=\"https://colab.research.google.com/github/suryakokkiligadda2003/Python-mini-projects/blob/main/Testing_pandas.ipynb\" target=\"_parent\"><img src=\"https://colab.research.google.com/assets/colab-badge.svg\" alt=\"Open In Colab\"/></a>"
      ]
    },
    {
      "cell_type": "code",
      "source": [
        "import pandas as pd\n",
        "from datetime import datetime\n",
        "\n",
        "# Given Employee Data\n",
        "data = {\n",
        "    'Name': [\n",
        "        'Alice', 'Bob', 'Charlie', 'David', 'Eva', 'Frank', 'Grace', 'Helen', 'Ian', 'Jane',\n",
        "        'Karl', 'Laura', 'Mike', 'Nina', 'Oscar', 'Paula', 'Quentin', 'Rachel', 'Steve', 'Tina',\n",
        "        'Uma', 'Victor', 'Wendy', 'Xander', 'Yara', 'Zane'\n",
        "    ],\n",
        "    'Department': [\n",
        "        'HR', 'IT', 'Finance', 'IT', 'HR', 'Finance', 'IT', 'Marketing', 'Sales', 'HR',\n",
        "        'IT', 'Finance', 'Sales', 'Marketing', 'IT', 'HR', 'Finance', 'Sales', 'IT', 'Marketing',\n",
        "        'HR', 'Finance', 'Sales', 'IT', 'Marketing', 'Finance'\n",
        "    ],\n",
        "    'Salary': [\n",
        "        50000, 60000, 55000, 70000, 48000, 62000, 65000, 52000, 58000, 51000,\n",
        "        75000, 53000, 60000, 57000, 67000, 49500, 61000, 59000, 72000, 54000,\n",
        "        47000, 56000, 61000, 68000, 55000, 64000\n",
        "    ],\n",
        "    'Join_Date': [\n",
        "        '2020-05-21', '2019-03-15', '2021-07-10', '2018-11-01', '2022-01-05', '2017-09-12',\n",
        "        '2020-06-30', '2019-08-20', '2021-02-11', '2020-12-01', '2016-04-25', '2019-11-15',\n",
        "        '2020-03-03', '2022-04-10', '2018-07-18', '2017-10-22', '2015-05-09', '2020-09-14',\n",
        "        '2021-01-19', '2016-12-30', '2023-01-11', '2018-02-27', '2019-06-06', '2020-08-08',\n",
        "        '2021-03-22', '2017-01-17'\n",
        "    ]\n",
        "}\n",
        "\n",
        "# 1. Load the data into a Pandas DataFrame\n",
        "df = pd.DataFrame(data)\n",
        "\n",
        "# Convert Join_Date to datetime format\n",
        "df['Join_Date'] = pd.to_datetime(df['Join_Date'])\n",
        "\n",
        "# 2. Display names of employees who joined after January 1, 2020\n",
        "employees_after_2020 = df[df['Join_Date'] > '2020-01-01']['Name']\n",
        "print(\"Employees who joined after Jan 1, 2020:\")\n",
        "print(employees_after_2020.to_list())\n",
        "\n",
        "# 3. Calculate the average salary for each department\n",
        "avg_salary_by_department = df.groupby('Department')['Salary'].mean()\n",
        "print(\"\\nAverage Salary per Department:\")\n",
        "print(avg_salary_by_department)\n",
        "\n",
        "# 4. Identify the department with the highest average salary\n",
        "highest_avg_salary_dept = avg_salary_by_department.idxmax()\n",
        "print(\"\\nDepartment with the highest average salary:\", highest_avg_salary_dept)\n",
        "\n",
        "# 5. Add a new column \"Years_with_Company\" to calculate full years with the company\n",
        "today = datetime.today()\n",
        "df['Years_with_Company'] = df['Join_Date'].apply(lambda x: today.year - x.year - ((today.month, today.day) < (x.month, x.day)))\n",
        "\n",
        "# 6. Sort the DataFrame by Years_with_Company in descending order\n",
        "df_sorted = df.sort_values(by='Years_with_Company', ascending=False)\n",
        "\n",
        "# 7. Save the updated DataFrame to a new CSV file\n",
        "df_sorted.to_csv(\"updated_employees.csv\", index=False)\n",
        "\n",
        "print(\"\\nUpdated DataFrame has been saved as 'updated_employees.csv'.\")"
      ],
      "metadata": {
        "colab": {
          "base_uri": "https://localhost:8080/"
        },
        "id": "BwqjS4wE2I71",
        "outputId": "f9e92f7b-6daf-4b40-ee58-db4eb5b6649d"
      },
      "execution_count": 16,
      "outputs": [
        {
          "output_type": "stream",
          "name": "stdout",
          "text": [
            "Employees who joined after Jan 1, 2020:\n",
            "['Alice', 'Charlie', 'Eva', 'Grace', 'Ian', 'Jane', 'Mike', 'Nina', 'Rachel', 'Steve', 'Uma', 'Xander', 'Yara']\n",
            "\n",
            "Average Salary per Department:\n",
            "Department\n",
            "Finance      58500.000000\n",
            "HR           49100.000000\n",
            "IT           68142.857143\n",
            "Marketing    54500.000000\n",
            "Sales        59500.000000\n",
            "Name: Salary, dtype: float64\n",
            "\n",
            "Department with the highest average salary: IT\n",
            "\n",
            "Updated DataFrame has been saved as 'updated_employees.csv'.\n"
          ]
        }
      ]
    }
  ]
}