{
  "nbformat": 4,
  "nbformat_minor": 0,
  "metadata": {
    "colab": {
      "provenance": [],
      "authorship_tag": "ABX9TyOxjpdpJkxpKVoYRMCpUKjT",
      "include_colab_link": true
    },
    "kernelspec": {
      "name": "python3",
      "display_name": "Python 3"
    },
    "language_info": {
      "name": "python"
    }
  },
  "cells": [
    {
      "cell_type": "markdown",
      "metadata": {
        "id": "view-in-github",
        "colab_type": "text"
      },
      "source": [
        "<a href=\"https://colab.research.google.com/github/suryakokkiligadda2003/Python-mini-projects/blob/main/Python_23.ipynb\" target=\"_parent\"><img src=\"https://colab.research.google.com/assets/colab-badge.svg\" alt=\"Open In Colab\"/></a>"
      ]
    },
    {
      "cell_type": "code",
      "source": [
        "import numpy as np"
      ],
      "metadata": {
        "id": "-nh5cZwN4Fn9"
      },
      "execution_count": 1,
      "outputs": []
    },
    {
      "cell_type": "code",
      "execution_count": 2,
      "metadata": {
        "id": "DrzSfL2E32nI"
      },
      "outputs": [],
      "source": [
        "arr = np.array([[1,2,3],[4,5,6]])"
      ]
    },
    {
      "cell_type": "code",
      "source": [
        "type(arr)"
      ],
      "metadata": {
        "colab": {
          "base_uri": "https://localhost:8080/"
        },
        "id": "f6gTJB7c4Nhf",
        "outputId": "3850a90a-5e82-47d9-f89c-2eb5f53028d8"
      },
      "execution_count": 3,
      "outputs": [
        {
          "output_type": "execute_result",
          "data": {
            "text/plain": [
              "numpy.ndarray"
            ]
          },
          "metadata": {},
          "execution_count": 3
        }
      ]
    },
    {
      "cell_type": "code",
      "source": [
        "arr1 = np.random.randint(1,2,(3,2))"
      ],
      "metadata": {
        "id": "jhroPP674NlS"
      },
      "execution_count": 4,
      "outputs": []
    },
    {
      "cell_type": "code",
      "source": [
        "arr1.shape"
      ],
      "metadata": {
        "colab": {
          "base_uri": "https://localhost:8080/"
        },
        "id": "8iuhBFAS4Nr7",
        "outputId": "34798266-b0b2-4fa5-fb59-55d3117d6903"
      },
      "execution_count": 5,
      "outputs": [
        {
          "output_type": "execute_result",
          "data": {
            "text/plain": [
              "(3, 2)"
            ]
          },
          "metadata": {},
          "execution_count": 5
        }
      ]
    },
    {
      "cell_type": "code",
      "source": [
        "result= np.dot(arr1,arr)"
      ],
      "metadata": {
        "id": "3Tafc36x4NvW"
      },
      "execution_count": 6,
      "outputs": []
    },
    {
      "cell_type": "code",
      "source": [
        "r1 = np.random.randint(10,20,(3,3))\n",
        "print(r1)"
      ],
      "metadata": {
        "colab": {
          "base_uri": "https://localhost:8080/"
        },
        "id": "qhoxyijm4NoL",
        "outputId": "e74f60b4-1c4a-4402-b043-1eb80db744e6"
      },
      "execution_count": 7,
      "outputs": [
        {
          "output_type": "stream",
          "name": "stdout",
          "text": [
            "[[18 17 19]\n",
            " [15 15 13]\n",
            " [17 12 11]]\n"
          ]
        }
      ]
    },
    {
      "cell_type": "code",
      "source": [
        "r2 = np.eye(3)\n",
        "print(r1)"
      ],
      "metadata": {
        "colab": {
          "base_uri": "https://localhost:8080/"
        },
        "id": "RkYR1HSn4NyV",
        "outputId": "d54fd306-ce11-4d80-adfd-9a87c545983d"
      },
      "execution_count": 8,
      "outputs": [
        {
          "output_type": "stream",
          "name": "stdout",
          "text": [
            "[[18 17 19]\n",
            " [15 15 13]\n",
            " [17 12 11]]\n"
          ]
        }
      ]
    },
    {
      "cell_type": "code",
      "source": [
        "result2 = np.dot(r2,r1)"
      ],
      "metadata": {
        "id": "6uVrmv5s4N1i"
      },
      "execution_count": 9,
      "outputs": []
    },
    {
      "cell_type": "code",
      "source": [
        "print(result2)"
      ],
      "metadata": {
        "colab": {
          "base_uri": "https://localhost:8080/"
        },
        "id": "VrgOWduh7XlG",
        "outputId": "ab7e3ce2-5db0-4359-e5b7-2bc67ca957e1"
      },
      "execution_count": 10,
      "outputs": [
        {
          "output_type": "stream",
          "name": "stdout",
          "text": [
            "[[18. 17. 19.]\n",
            " [15. 15. 13.]\n",
            " [17. 12. 11.]]\n"
          ]
        }
      ]
    },
    {
      "cell_type": "code",
      "source": [
        "arr1 = np.array([1,2,3,4])\n",
        "arr2 = np.array([10,20,30,40])\n",
        "\n",
        "arr3 = np.array"
      ],
      "metadata": {
        "id": "Hmo7K5BM7XWI"
      },
      "execution_count": 13,
      "outputs": []
    }
  ]
}